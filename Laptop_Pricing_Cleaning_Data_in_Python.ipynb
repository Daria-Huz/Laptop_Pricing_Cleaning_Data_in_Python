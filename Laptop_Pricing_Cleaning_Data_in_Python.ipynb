{
 "cells": [
  {
   "cell_type": "markdown",
   "id": "a42c4d49",
   "metadata": {
    "papermill": {
     "duration": 0.015448,
     "end_time": "2024-01-21T04:51:30.946810",
     "exception": false,
     "start_time": "2024-01-21T04:51:30.931362",
     "status": "completed"
    },
    "tags": []
   },
   "source": [
    "# Laptop Pricing Dataset\n",
    "This dataset is a collection of features related to various laptops, such as brand, processor type, RAM, storage capacity, and other specifications. The dataset also includes the corresponding prices of these laptops. This dataset can be used for regression analysis to predict the prices of laptops based on their features. \n",
    "\n",
    "### Project goal: cleaning the dataset."
   ]
  },
  {
   "cell_type": "markdown",
   "id": "02b8c9ac",
   "metadata": {
    "papermill": {
     "duration": 0.016075,
     "end_time": "2024-01-21T04:51:30.979013",
     "exception": false,
     "start_time": "2024-01-21T04:51:30.962938",
     "status": "completed"
    },
    "tags": []
   },
   "source": [
    "# 1. Download libraries"
   ]
  },
  {
   "cell_type": "code",
   "execution_count": 1,
   "id": "6d773a08",
   "metadata": {
    "execution": {
     "iopub.execute_input": "2024-01-21T04:51:31.013389Z",
     "iopub.status.busy": "2024-01-21T04:51:31.012999Z",
     "iopub.status.idle": "2024-01-21T04:51:31.460206Z",
     "shell.execute_reply": "2024-01-21T04:51:31.458935Z"
    },
    "papermill": {
     "duration": 0.466798,
     "end_time": "2024-01-21T04:51:31.463072",
     "exception": false,
     "start_time": "2024-01-21T04:51:30.996274",
     "status": "completed"
    },
    "tags": []
   },
   "outputs": [],
   "source": [
    "import pandas as pd\n",
    "import matplotlib.pylab as plt\n",
    "import numpy as np\n",
    "%matplotlib inline\n",
    "import matplotlib as plt\n",
    "from matplotlib import pyplot"
   ]
  },
  {
   "cell_type": "markdown",
   "id": "836156d6",
   "metadata": {
    "papermill": {
     "duration": 0.015056,
     "end_time": "2024-01-21T04:51:31.493879",
     "exception": false,
     "start_time": "2024-01-21T04:51:31.478823",
     "status": "completed"
    },
    "tags": []
   },
   "source": [
    "# 2. Import dataset"
   ]
  },
  {
   "cell_type": "code",
   "execution_count": 2,
   "id": "17390f44",
   "metadata": {
    "execution": {
     "iopub.execute_input": "2024-01-21T04:51:31.528880Z",
     "iopub.status.busy": "2024-01-21T04:51:31.528312Z",
     "iopub.status.idle": "2024-01-21T04:51:31.534022Z",
     "shell.execute_reply": "2024-01-21T04:51:31.532770Z"
    },
    "papermill": {
     "duration": 0.026942,
     "end_time": "2024-01-21T04:51:31.536391",
     "exception": false,
     "start_time": "2024-01-21T04:51:31.509449",
     "status": "completed"
    },
    "tags": []
   },
   "outputs": [],
   "source": [
    "url = \"/kaggle/input/laptop-pricing/laptop_pricing_dataset.csv\""
   ]
  },
  {
   "cell_type": "code",
   "execution_count": 3,
   "id": "20611f5c",
   "metadata": {
    "execution": {
     "iopub.execute_input": "2024-01-21T04:51:31.569496Z",
     "iopub.status.busy": "2024-01-21T04:51:31.569066Z",
     "iopub.status.idle": "2024-01-21T04:51:31.593890Z",
     "shell.execute_reply": "2024-01-21T04:51:31.592125Z"
    },
    "papermill": {
     "duration": 0.04394,
     "end_time": "2024-01-21T04:51:31.596493",
     "exception": false,
     "start_time": "2024-01-21T04:51:31.552553",
     "status": "completed"
    },
    "tags": []
   },
   "outputs": [],
   "source": [
    "df = pd.read_csv(url)"
   ]
  },
  {
   "cell_type": "code",
   "execution_count": 4,
   "id": "8cb73d67",
   "metadata": {
    "execution": {
     "iopub.execute_input": "2024-01-21T04:51:31.628597Z",
     "iopub.status.busy": "2024-01-21T04:51:31.628216Z",
     "iopub.status.idle": "2024-01-21T04:51:31.660350Z",
     "shell.execute_reply": "2024-01-21T04:51:31.659422Z"
    },
    "papermill": {
     "duration": 0.050821,
     "end_time": "2024-01-21T04:51:31.662589",
     "exception": false,
     "start_time": "2024-01-21T04:51:31.611768",
     "status": "completed"
    },
    "tags": []
   },
   "outputs": [
    {
     "data": {
      "text/html": [
       "<div>\n",
       "<style scoped>\n",
       "    .dataframe tbody tr th:only-of-type {\n",
       "        vertical-align: middle;\n",
       "    }\n",
       "\n",
       "    .dataframe tbody tr th {\n",
       "        vertical-align: top;\n",
       "    }\n",
       "\n",
       "    .dataframe thead th {\n",
       "        text-align: right;\n",
       "    }\n",
       "</style>\n",
       "<table border=\"1\" class=\"dataframe\">\n",
       "  <thead>\n",
       "    <tr style=\"text-align: right;\">\n",
       "      <th></th>\n",
       "      <th>Unnamed: 0</th>\n",
       "      <th>Manufacturer</th>\n",
       "      <th>Category</th>\n",
       "      <th>Screen</th>\n",
       "      <th>GPU</th>\n",
       "      <th>OS</th>\n",
       "      <th>CPU_core</th>\n",
       "      <th>Screen_Size_cm</th>\n",
       "      <th>CPU_frequency</th>\n",
       "      <th>RAM_GB</th>\n",
       "      <th>Storage_GB_SSD</th>\n",
       "      <th>Weight_kg</th>\n",
       "      <th>Price</th>\n",
       "    </tr>\n",
       "  </thead>\n",
       "  <tbody>\n",
       "    <tr>\n",
       "      <th>0</th>\n",
       "      <td>0</td>\n",
       "      <td>Acer</td>\n",
       "      <td>4</td>\n",
       "      <td>IPS Panel</td>\n",
       "      <td>2</td>\n",
       "      <td>1</td>\n",
       "      <td>5</td>\n",
       "      <td>35.560</td>\n",
       "      <td>1.6</td>\n",
       "      <td>8</td>\n",
       "      <td>256</td>\n",
       "      <td>1.60</td>\n",
       "      <td>978</td>\n",
       "    </tr>\n",
       "    <tr>\n",
       "      <th>1</th>\n",
       "      <td>1</td>\n",
       "      <td>Dell</td>\n",
       "      <td>3</td>\n",
       "      <td>Full HD</td>\n",
       "      <td>1</td>\n",
       "      <td>1</td>\n",
       "      <td>3</td>\n",
       "      <td>39.624</td>\n",
       "      <td>2.0</td>\n",
       "      <td>4</td>\n",
       "      <td>256</td>\n",
       "      <td>2.20</td>\n",
       "      <td>634</td>\n",
       "    </tr>\n",
       "    <tr>\n",
       "      <th>2</th>\n",
       "      <td>2</td>\n",
       "      <td>Dell</td>\n",
       "      <td>3</td>\n",
       "      <td>Full HD</td>\n",
       "      <td>1</td>\n",
       "      <td>1</td>\n",
       "      <td>7</td>\n",
       "      <td>39.624</td>\n",
       "      <td>2.7</td>\n",
       "      <td>8</td>\n",
       "      <td>256</td>\n",
       "      <td>2.20</td>\n",
       "      <td>946</td>\n",
       "    </tr>\n",
       "    <tr>\n",
       "      <th>3</th>\n",
       "      <td>3</td>\n",
       "      <td>Dell</td>\n",
       "      <td>4</td>\n",
       "      <td>IPS Panel</td>\n",
       "      <td>2</td>\n",
       "      <td>1</td>\n",
       "      <td>5</td>\n",
       "      <td>33.782</td>\n",
       "      <td>1.6</td>\n",
       "      <td>8</td>\n",
       "      <td>128</td>\n",
       "      <td>1.22</td>\n",
       "      <td>1244</td>\n",
       "    </tr>\n",
       "    <tr>\n",
       "      <th>4</th>\n",
       "      <td>4</td>\n",
       "      <td>HP</td>\n",
       "      <td>4</td>\n",
       "      <td>Full HD</td>\n",
       "      <td>2</td>\n",
       "      <td>1</td>\n",
       "      <td>7</td>\n",
       "      <td>39.624</td>\n",
       "      <td>1.8</td>\n",
       "      <td>8</td>\n",
       "      <td>256</td>\n",
       "      <td>1.91</td>\n",
       "      <td>837</td>\n",
       "    </tr>\n",
       "  </tbody>\n",
       "</table>\n",
       "</div>"
      ],
      "text/plain": [
       "   Unnamed: 0 Manufacturer  Category     Screen  GPU  OS  CPU_core  \\\n",
       "0           0         Acer         4  IPS Panel    2   1         5   \n",
       "1           1         Dell         3    Full HD    1   1         3   \n",
       "2           2         Dell         3    Full HD    1   1         7   \n",
       "3           3         Dell         4  IPS Panel    2   1         5   \n",
       "4           4           HP         4    Full HD    2   1         7   \n",
       "\n",
       "   Screen_Size_cm  CPU_frequency  RAM_GB  Storage_GB_SSD  Weight_kg  Price  \n",
       "0          35.560            1.6       8             256       1.60    978  \n",
       "1          39.624            2.0       4             256       2.20    634  \n",
       "2          39.624            2.7       8             256       2.20    946  \n",
       "3          33.782            1.6       8             128       1.22   1244  \n",
       "4          39.624            1.8       8             256       1.91    837  "
      ]
     },
     "execution_count": 4,
     "metadata": {},
     "output_type": "execute_result"
    }
   ],
   "source": [
    "# Display the first five rows of the data:\n",
    "\n",
    "df.head(5)"
   ]
  },
  {
   "cell_type": "code",
   "execution_count": 5,
   "id": "700a24a9",
   "metadata": {
    "execution": {
     "iopub.execute_input": "2024-01-21T04:51:31.695238Z",
     "iopub.status.busy": "2024-01-21T04:51:31.694856Z",
     "iopub.status.idle": "2024-01-21T04:51:31.709133Z",
     "shell.execute_reply": "2024-01-21T04:51:31.708175Z"
    },
    "papermill": {
     "duration": 0.03313,
     "end_time": "2024-01-21T04:51:31.711573",
     "exception": false,
     "start_time": "2024-01-21T04:51:31.678443",
     "status": "completed"
    },
    "tags": []
   },
   "outputs": [],
   "source": [
    "# Update the Screen_Size_cm column such that all values are rounded to nearest 2 decimal places:\n",
    "\n",
    "df[['Screen_Size_cm']] = np.round(df[['Screen_Size_cm']],2)"
   ]
  },
  {
   "cell_type": "code",
   "execution_count": 6,
   "id": "2cc6a677",
   "metadata": {
    "execution": {
     "iopub.execute_input": "2024-01-21T04:51:31.745884Z",
     "iopub.status.busy": "2024-01-21T04:51:31.745466Z",
     "iopub.status.idle": "2024-01-21T04:51:31.764733Z",
     "shell.execute_reply": "2024-01-21T04:51:31.763525Z"
    },
    "papermill": {
     "duration": 0.03986,
     "end_time": "2024-01-21T04:51:31.767162",
     "exception": false,
     "start_time": "2024-01-21T04:51:31.727302",
     "status": "completed"
    },
    "tags": []
   },
   "outputs": [
    {
     "data": {
      "text/html": [
       "<div>\n",
       "<style scoped>\n",
       "    .dataframe tbody tr th:only-of-type {\n",
       "        vertical-align: middle;\n",
       "    }\n",
       "\n",
       "    .dataframe tbody tr th {\n",
       "        vertical-align: top;\n",
       "    }\n",
       "\n",
       "    .dataframe thead th {\n",
       "        text-align: right;\n",
       "    }\n",
       "</style>\n",
       "<table border=\"1\" class=\"dataframe\">\n",
       "  <thead>\n",
       "    <tr style=\"text-align: right;\">\n",
       "      <th></th>\n",
       "      <th>Unnamed: 0</th>\n",
       "      <th>Manufacturer</th>\n",
       "      <th>Category</th>\n",
       "      <th>Screen</th>\n",
       "      <th>GPU</th>\n",
       "      <th>OS</th>\n",
       "      <th>CPU_core</th>\n",
       "      <th>Screen_Size_cm</th>\n",
       "      <th>CPU_frequency</th>\n",
       "      <th>RAM_GB</th>\n",
       "      <th>Storage_GB_SSD</th>\n",
       "      <th>Weight_kg</th>\n",
       "      <th>Price</th>\n",
       "    </tr>\n",
       "  </thead>\n",
       "  <tbody>\n",
       "    <tr>\n",
       "      <th>0</th>\n",
       "      <td>0</td>\n",
       "      <td>Acer</td>\n",
       "      <td>4</td>\n",
       "      <td>IPS Panel</td>\n",
       "      <td>2</td>\n",
       "      <td>1</td>\n",
       "      <td>5</td>\n",
       "      <td>35.56</td>\n",
       "      <td>1.6</td>\n",
       "      <td>8</td>\n",
       "      <td>256</td>\n",
       "      <td>1.60</td>\n",
       "      <td>978</td>\n",
       "    </tr>\n",
       "    <tr>\n",
       "      <th>1</th>\n",
       "      <td>1</td>\n",
       "      <td>Dell</td>\n",
       "      <td>3</td>\n",
       "      <td>Full HD</td>\n",
       "      <td>1</td>\n",
       "      <td>1</td>\n",
       "      <td>3</td>\n",
       "      <td>39.62</td>\n",
       "      <td>2.0</td>\n",
       "      <td>4</td>\n",
       "      <td>256</td>\n",
       "      <td>2.20</td>\n",
       "      <td>634</td>\n",
       "    </tr>\n",
       "    <tr>\n",
       "      <th>2</th>\n",
       "      <td>2</td>\n",
       "      <td>Dell</td>\n",
       "      <td>3</td>\n",
       "      <td>Full HD</td>\n",
       "      <td>1</td>\n",
       "      <td>1</td>\n",
       "      <td>7</td>\n",
       "      <td>39.62</td>\n",
       "      <td>2.7</td>\n",
       "      <td>8</td>\n",
       "      <td>256</td>\n",
       "      <td>2.20</td>\n",
       "      <td>946</td>\n",
       "    </tr>\n",
       "    <tr>\n",
       "      <th>3</th>\n",
       "      <td>3</td>\n",
       "      <td>Dell</td>\n",
       "      <td>4</td>\n",
       "      <td>IPS Panel</td>\n",
       "      <td>2</td>\n",
       "      <td>1</td>\n",
       "      <td>5</td>\n",
       "      <td>33.78</td>\n",
       "      <td>1.6</td>\n",
       "      <td>8</td>\n",
       "      <td>128</td>\n",
       "      <td>1.22</td>\n",
       "      <td>1244</td>\n",
       "    </tr>\n",
       "    <tr>\n",
       "      <th>4</th>\n",
       "      <td>4</td>\n",
       "      <td>HP</td>\n",
       "      <td>4</td>\n",
       "      <td>Full HD</td>\n",
       "      <td>2</td>\n",
       "      <td>1</td>\n",
       "      <td>7</td>\n",
       "      <td>39.62</td>\n",
       "      <td>1.8</td>\n",
       "      <td>8</td>\n",
       "      <td>256</td>\n",
       "      <td>1.91</td>\n",
       "      <td>837</td>\n",
       "    </tr>\n",
       "  </tbody>\n",
       "</table>\n",
       "</div>"
      ],
      "text/plain": [
       "   Unnamed: 0 Manufacturer  Category     Screen  GPU  OS  CPU_core  \\\n",
       "0           0         Acer         4  IPS Panel    2   1         5   \n",
       "1           1         Dell         3    Full HD    1   1         3   \n",
       "2           2         Dell         3    Full HD    1   1         7   \n",
       "3           3         Dell         4  IPS Panel    2   1         5   \n",
       "4           4           HP         4    Full HD    2   1         7   \n",
       "\n",
       "   Screen_Size_cm  CPU_frequency  RAM_GB  Storage_GB_SSD  Weight_kg  Price  \n",
       "0           35.56            1.6       8             256       1.60    978  \n",
       "1           39.62            2.0       4             256       2.20    634  \n",
       "2           39.62            2.7       8             256       2.20    946  \n",
       "3           33.78            1.6       8             128       1.22   1244  \n",
       "4           39.62            1.8       8             256       1.91    837  "
      ]
     },
     "execution_count": 6,
     "metadata": {},
     "output_type": "execute_result"
    }
   ],
   "source": [
    "# Check the result:\n",
    " \n",
    "df.head()"
   ]
  },
  {
   "cell_type": "markdown",
   "id": "f4abb79b",
   "metadata": {
    "papermill": {
     "duration": 0.015863,
     "end_time": "2024-01-21T04:51:31.798825",
     "exception": false,
     "start_time": "2024-01-21T04:51:31.782962",
     "status": "completed"
    },
    "tags": []
   },
   "source": [
    "# 3. Identify and handle missing values"
   ]
  },
  {
   "cell_type": "code",
   "execution_count": 7,
   "id": "e19b95f2",
   "metadata": {
    "execution": {
     "iopub.execute_input": "2024-01-21T04:51:31.833313Z",
     "iopub.status.busy": "2024-01-21T04:51:31.832923Z",
     "iopub.status.idle": "2024-01-21T04:51:31.838212Z",
     "shell.execute_reply": "2024-01-21T04:51:31.837331Z"
    },
    "papermill": {
     "duration": 0.026678,
     "end_time": "2024-01-21T04:51:31.842083",
     "exception": false,
     "start_time": "2024-01-21T04:51:31.815405",
     "status": "completed"
    },
    "tags": []
   },
   "outputs": [],
   "source": [
    "# Evaluate for Missing Data:\n",
    "\n",
    "missing_data = df.isnull()"
   ]
  },
  {
   "cell_type": "code",
   "execution_count": 8,
   "id": "cf031420",
   "metadata": {
    "execution": {
     "iopub.execute_input": "2024-01-21T04:51:31.943262Z",
     "iopub.status.busy": "2024-01-21T04:51:31.942329Z",
     "iopub.status.idle": "2024-01-21T04:51:31.954419Z",
     "shell.execute_reply": "2024-01-21T04:51:31.953153Z"
    },
    "papermill": {
     "duration": 0.032313,
     "end_time": "2024-01-21T04:51:31.957260",
     "exception": false,
     "start_time": "2024-01-21T04:51:31.924947",
     "status": "completed"
    },
    "tags": []
   },
   "outputs": [
    {
     "name": "stdout",
     "output_type": "stream",
     "text": [
      "   Unnamed: 0  Manufacturer  Category  Screen    GPU     OS  CPU_core  \\\n",
      "0       False         False     False   False  False  False     False   \n",
      "1       False         False     False   False  False  False     False   \n",
      "2       False         False     False   False  False  False     False   \n",
      "3       False         False     False   False  False  False     False   \n",
      "4       False         False     False   False  False  False     False   \n",
      "\n",
      "   Screen_Size_cm  CPU_frequency  RAM_GB  Storage_GB_SSD  Weight_kg  Price  \n",
      "0           False          False   False           False      False  False  \n",
      "1           False          False   False           False      False  False  \n",
      "2           False          False   False           False      False  False  \n",
      "3           False          False   False           False      False  False  \n",
      "4           False          False   False           False      False  False  \n"
     ]
    }
   ],
   "source": [
    "# Check the result:\n",
    "\n",
    "print(missing_data.head())"
   ]
  },
  {
   "cell_type": "code",
   "execution_count": 9,
   "id": "b91145db",
   "metadata": {
    "execution": {
     "iopub.execute_input": "2024-01-21T04:51:31.991450Z",
     "iopub.status.busy": "2024-01-21T04:51:31.991007Z",
     "iopub.status.idle": "2024-01-21T04:51:32.013351Z",
     "shell.execute_reply": "2024-01-21T04:51:32.012173Z"
    },
    "papermill": {
     "duration": 0.042582,
     "end_time": "2024-01-21T04:51:32.015829",
     "exception": false,
     "start_time": "2024-01-21T04:51:31.973247",
     "status": "completed"
    },
    "tags": []
   },
   "outputs": [
    {
     "name": "stdout",
     "output_type": "stream",
     "text": [
      "Unnamed: 0\n",
      "Unnamed: 0\n",
      "False    238\n",
      "Name: count, dtype: int64\n",
      "\n",
      "Manufacturer\n",
      "Manufacturer\n",
      "False    238\n",
      "Name: count, dtype: int64\n",
      "\n",
      "Category\n",
      "Category\n",
      "False    238\n",
      "Name: count, dtype: int64\n",
      "\n",
      "Screen\n",
      "Screen\n",
      "False    238\n",
      "Name: count, dtype: int64\n",
      "\n",
      "GPU\n",
      "GPU\n",
      "False    238\n",
      "Name: count, dtype: int64\n",
      "\n",
      "OS\n",
      "OS\n",
      "False    238\n",
      "Name: count, dtype: int64\n",
      "\n",
      "CPU_core\n",
      "CPU_core\n",
      "False    238\n",
      "Name: count, dtype: int64\n",
      "\n",
      "Screen_Size_cm\n",
      "Screen_Size_cm\n",
      "False    234\n",
      "True       4\n",
      "Name: count, dtype: int64\n",
      "\n",
      "CPU_frequency\n",
      "CPU_frequency\n",
      "False    238\n",
      "Name: count, dtype: int64\n",
      "\n",
      "RAM_GB\n",
      "RAM_GB\n",
      "False    238\n",
      "Name: count, dtype: int64\n",
      "\n",
      "Storage_GB_SSD\n",
      "Storage_GB_SSD\n",
      "False    238\n",
      "Name: count, dtype: int64\n",
      "\n",
      "Weight_kg\n",
      "Weight_kg\n",
      "False    233\n",
      "True       5\n",
      "Name: count, dtype: int64\n",
      "\n",
      "Price\n",
      "Price\n",
      "False    238\n",
      "Name: count, dtype: int64\n",
      "\n"
     ]
    }
   ],
   "source": [
    "# Count missing values in each column:\n",
    "\n",
    "for column in missing_data.columns.values.tolist():\n",
    "    print(column)\n",
    "    print (missing_data[column].value_counts())\n",
    "    print(\"\")  "
   ]
  },
  {
   "cell_type": "markdown",
   "id": "c519d626",
   "metadata": {
    "papermill": {
     "duration": 0.016694,
     "end_time": "2024-01-21T04:51:32.048801",
     "exception": false,
     "start_time": "2024-01-21T04:51:32.032107",
     "status": "completed"
    },
    "tags": []
   },
   "source": [
    "### Conclusion:\n",
    "Based on the summary above, each column has 238 rows of data and two of the columns containing missing data:\n",
    "\n",
    "\"Weight_kg\": 5 missing data\n",
    "\"Screen_Size_cm\": 4 missing data"
   ]
  },
  {
   "cell_type": "code",
   "execution_count": 10,
   "id": "d394bb2f",
   "metadata": {
    "execution": {
     "iopub.execute_input": "2024-01-21T04:51:32.084739Z",
     "iopub.status.busy": "2024-01-21T04:51:32.084115Z",
     "iopub.status.idle": "2024-01-21T04:51:32.090591Z",
     "shell.execute_reply": "2024-01-21T04:51:32.089395Z"
    },
    "papermill": {
     "duration": 0.027121,
     "end_time": "2024-01-21T04:51:32.093171",
     "exception": false,
     "start_time": "2024-01-21T04:51:32.066050",
     "status": "completed"
    },
    "tags": []
   },
   "outputs": [
    {
     "name": "stdout",
     "output_type": "stream",
     "text": [
      "Average of Weight_kg: 1.8622317596566522\n"
     ]
    }
   ],
   "source": [
    "# Calculate the mean value for the \"Weight_kg\" column:\n",
    "\n",
    "avg_weight= df['Weight_kg'].astype('float').mean(axis=0)\n",
    "print(\"Average of Weight_kg:\", avg_weight)"
   ]
  },
  {
   "cell_type": "code",
   "execution_count": 11,
   "id": "67f69541",
   "metadata": {
    "execution": {
     "iopub.execute_input": "2024-01-21T04:51:32.127928Z",
     "iopub.status.busy": "2024-01-21T04:51:32.127522Z",
     "iopub.status.idle": "2024-01-21T04:51:32.133492Z",
     "shell.execute_reply": "2024-01-21T04:51:32.132383Z"
    },
    "papermill": {
     "duration": 0.026235,
     "end_time": "2024-01-21T04:51:32.136218",
     "exception": false,
     "start_time": "2024-01-21T04:51:32.109983",
     "status": "completed"
    },
    "tags": []
   },
   "outputs": [],
   "source": [
    "# Replace \"NaN\" with mean value in \"Weight_kg\" column:\n",
    "\n",
    "df['Weight_kg'].replace(np.nan, avg_weight, inplace=True)"
   ]
  },
  {
   "cell_type": "code",
   "execution_count": 12,
   "id": "afafea5e",
   "metadata": {
    "execution": {
     "iopub.execute_input": "2024-01-21T04:51:32.171101Z",
     "iopub.status.busy": "2024-01-21T04:51:32.170640Z",
     "iopub.status.idle": "2024-01-21T04:51:32.176417Z",
     "shell.execute_reply": "2024-01-21T04:51:32.175235Z"
    },
    "papermill": {
     "duration": 0.026918,
     "end_time": "2024-01-21T04:51:32.179459",
     "exception": false,
     "start_time": "2024-01-21T04:51:32.152541",
     "status": "completed"
    },
    "tags": []
   },
   "outputs": [],
   "source": [
    "# Calculate the most common value in the \"Screen_Size_cm\" column:\n",
    "\n",
    "common_screen_size = df['Screen_Size_cm'].value_counts().idxmax()"
   ]
  },
  {
   "cell_type": "code",
   "execution_count": 13,
   "id": "6f83caaa",
   "metadata": {
    "execution": {
     "iopub.execute_input": "2024-01-21T04:51:32.215048Z",
     "iopub.status.busy": "2024-01-21T04:51:32.214585Z",
     "iopub.status.idle": "2024-01-21T04:51:32.220461Z",
     "shell.execute_reply": "2024-01-21T04:51:32.219180Z"
    },
    "papermill": {
     "duration": 0.02654,
     "end_time": "2024-01-21T04:51:32.222715",
     "exception": false,
     "start_time": "2024-01-21T04:51:32.196175",
     "status": "completed"
    },
    "tags": []
   },
   "outputs": [],
   "source": [
    "# Replace the missing 'Screen_Size_cm' values by the most frequent:\n",
    "\n",
    "df[\"Screen_Size_cm\"].replace(np.nan, common_screen_size, inplace=True)"
   ]
  },
  {
   "cell_type": "markdown",
   "id": "f30cac1d",
   "metadata": {
    "papermill": {
     "duration": 0.016543,
     "end_time": "2024-01-21T04:51:32.255791",
     "exception": false,
     "start_time": "2024-01-21T04:51:32.239248",
     "status": "completed"
    },
    "tags": []
   },
   "source": [
    "# 4. Correct data format"
   ]
  },
  {
   "cell_type": "code",
   "execution_count": 14,
   "id": "364c95b9",
   "metadata": {
    "execution": {
     "iopub.execute_input": "2024-01-21T04:51:32.290625Z",
     "iopub.status.busy": "2024-01-21T04:51:32.290210Z",
     "iopub.status.idle": "2024-01-21T04:51:32.298922Z",
     "shell.execute_reply": "2024-01-21T04:51:32.297638Z"
    },
    "papermill": {
     "duration": 0.029215,
     "end_time": "2024-01-21T04:51:32.301225",
     "exception": false,
     "start_time": "2024-01-21T04:51:32.272010",
     "status": "completed"
    },
    "tags": []
   },
   "outputs": [
    {
     "data": {
      "text/plain": [
       "Unnamed: 0          int64\n",
       "Manufacturer       object\n",
       "Category            int64\n",
       "Screen             object\n",
       "GPU                 int64\n",
       "OS                  int64\n",
       "CPU_core            int64\n",
       "Screen_Size_cm    float64\n",
       "CPU_frequency     float64\n",
       "RAM_GB              int64\n",
       "Storage_GB_SSD      int64\n",
       "Weight_kg         float64\n",
       "Price               int64\n",
       "dtype: object"
      ]
     },
     "execution_count": 14,
     "metadata": {},
     "output_type": "execute_result"
    }
   ],
   "source": [
    "# List the data types for each column:\n",
    "\n",
    "df.dtypes"
   ]
  },
  {
   "cell_type": "code",
   "execution_count": 15,
   "id": "f2c98db1",
   "metadata": {
    "execution": {
     "iopub.execute_input": "2024-01-21T04:51:32.337190Z",
     "iopub.status.busy": "2024-01-21T04:51:32.336754Z",
     "iopub.status.idle": "2024-01-21T04:51:32.345581Z",
     "shell.execute_reply": "2024-01-21T04:51:32.343862Z"
    },
    "papermill": {
     "duration": 0.02965,
     "end_time": "2024-01-21T04:51:32.348259",
     "exception": false,
     "start_time": "2024-01-21T04:51:32.318609",
     "status": "completed"
    },
    "tags": []
   },
   "outputs": [],
   "source": [
    "# Convert data types to proper format:\n",
    "\n",
    "df[['Screen_Size_cm', 'Weight_kg']] = df[['Screen_Size_cm', 'Weight_kg']].astype('float')"
   ]
  },
  {
   "cell_type": "code",
   "execution_count": 16,
   "id": "d63529c6",
   "metadata": {
    "execution": {
     "iopub.execute_input": "2024-01-21T04:51:32.386006Z",
     "iopub.status.busy": "2024-01-21T04:51:32.385559Z",
     "iopub.status.idle": "2024-01-21T04:51:32.393955Z",
     "shell.execute_reply": "2024-01-21T04:51:32.392887Z"
    },
    "papermill": {
     "duration": 0.030677,
     "end_time": "2024-01-21T04:51:32.396621",
     "exception": false,
     "start_time": "2024-01-21T04:51:32.365944",
     "status": "completed"
    },
    "tags": []
   },
   "outputs": [
    {
     "data": {
      "text/plain": [
       "Unnamed: 0          int64\n",
       "Manufacturer       object\n",
       "Category            int64\n",
       "Screen             object\n",
       "GPU                 int64\n",
       "OS                  int64\n",
       "CPU_core            int64\n",
       "Screen_Size_cm    float64\n",
       "CPU_frequency     float64\n",
       "RAM_GB              int64\n",
       "Storage_GB_SSD      int64\n",
       "Weight_kg         float64\n",
       "Price               int64\n",
       "dtype: object"
      ]
     },
     "execution_count": 16,
     "metadata": {},
     "output_type": "execute_result"
    }
   ],
   "source": [
    "# Check the result:\n",
    "\n",
    "df.dtypes"
   ]
  },
  {
   "cell_type": "markdown",
   "id": "3035b613",
   "metadata": {
    "papermill": {
     "duration": 0.015939,
     "end_time": "2024-01-21T04:51:32.429244",
     "exception": false,
     "start_time": "2024-01-21T04:51:32.413305",
     "status": "completed"
    },
    "tags": []
   },
   "source": [
    "# 5. Data Standardization"
   ]
  },
  {
   "cell_type": "code",
   "execution_count": 17,
   "id": "1b135adb",
   "metadata": {
    "execution": {
     "iopub.execute_input": "2024-01-21T04:51:32.465592Z",
     "iopub.status.busy": "2024-01-21T04:51:32.465169Z",
     "iopub.status.idle": "2024-01-21T04:51:32.471491Z",
     "shell.execute_reply": "2024-01-21T04:51:32.470097Z"
    },
    "papermill": {
     "duration": 0.02826,
     "end_time": "2024-01-21T04:51:32.474182",
     "exception": false,
     "start_time": "2024-01-21T04:51:32.445922",
     "status": "completed"
    },
    "tags": []
   },
   "outputs": [],
   "source": [
    "# Transform 'cm' to 'inch' in column \"Screen_Size_cm\" (1 inch = 2.54 cm):\n",
    "\n",
    "df[\"Screen_Size_cm\"] = df[\"Screen_Size_cm\"]/2.54"
   ]
  },
  {
   "cell_type": "code",
   "execution_count": 18,
   "id": "60339b33",
   "metadata": {
    "execution": {
     "iopub.execute_input": "2024-01-21T04:51:32.509949Z",
     "iopub.status.busy": "2024-01-21T04:51:32.509388Z",
     "iopub.status.idle": "2024-01-21T04:51:32.519202Z",
     "shell.execute_reply": "2024-01-21T04:51:32.517993Z"
    },
    "papermill": {
     "duration": 0.031012,
     "end_time": "2024-01-21T04:51:32.521793",
     "exception": false,
     "start_time": "2024-01-21T04:51:32.490781",
     "status": "completed"
    },
    "tags": []
   },
   "outputs": [],
   "source": [
    "# Rename the column:\n",
    "\n",
    "df.rename(columns={'Screen_Size_cm':'Screen_Size_inch'}, inplace=True)"
   ]
  },
  {
   "cell_type": "code",
   "execution_count": 19,
   "id": "a9e78ff6",
   "metadata": {
    "execution": {
     "iopub.execute_input": "2024-01-21T04:51:32.558033Z",
     "iopub.status.busy": "2024-01-21T04:51:32.557617Z",
     "iopub.status.idle": "2024-01-21T04:51:32.563193Z",
     "shell.execute_reply": "2024-01-21T04:51:32.562337Z"
    },
    "papermill": {
     "duration": 0.026405,
     "end_time": "2024-01-21T04:51:32.565373",
     "exception": false,
     "start_time": "2024-01-21T04:51:32.538968",
     "status": "completed"
    },
    "tags": []
   },
   "outputs": [],
   "source": [
    "# Transform 'kg' to 'pounds' in column \"Weight_kg\" (1 kg = 2.205 pounds):\n",
    "\n",
    "df[\"Weight_kg\"] = df[\"Weight_kg\"]*2.205"
   ]
  },
  {
   "cell_type": "code",
   "execution_count": 20,
   "id": "2150f078",
   "metadata": {
    "execution": {
     "iopub.execute_input": "2024-01-21T04:51:32.601130Z",
     "iopub.status.busy": "2024-01-21T04:51:32.600708Z",
     "iopub.status.idle": "2024-01-21T04:51:32.606359Z",
     "shell.execute_reply": "2024-01-21T04:51:32.605281Z"
    },
    "papermill": {
     "duration": 0.025908,
     "end_time": "2024-01-21T04:51:32.608698",
     "exception": false,
     "start_time": "2024-01-21T04:51:32.582790",
     "status": "completed"
    },
    "tags": []
   },
   "outputs": [],
   "source": [
    "# Rename the column:\n",
    "\n",
    "df.rename(columns={'Weight_kg':'Weight_pounds'}, inplace=True)"
   ]
  },
  {
   "cell_type": "code",
   "execution_count": 21,
   "id": "265c45aa",
   "metadata": {
    "execution": {
     "iopub.execute_input": "2024-01-21T04:51:32.644508Z",
     "iopub.status.busy": "2024-01-21T04:51:32.644104Z",
     "iopub.status.idle": "2024-01-21T04:51:32.652156Z",
     "shell.execute_reply": "2024-01-21T04:51:32.650946Z"
    },
    "papermill": {
     "duration": 0.029235,
     "end_time": "2024-01-21T04:51:32.654566",
     "exception": false,
     "start_time": "2024-01-21T04:51:32.625331",
     "status": "completed"
    },
    "tags": []
   },
   "outputs": [],
   "source": [
    "# Update the \"Screen_Size_cm\" and \"Weight_pounds\" columns such that all values are rounded to nearest 2 decimal places \n",
    "df[['Screen_Size_inch', 'Weight_pounds']] = np.round(df[['Screen_Size_inch', 'Weight_pounds']], 2)"
   ]
  },
  {
   "cell_type": "code",
   "execution_count": 22,
   "id": "6eea002f",
   "metadata": {
    "execution": {
     "iopub.execute_input": "2024-01-21T04:51:32.689918Z",
     "iopub.status.busy": "2024-01-21T04:51:32.689484Z",
     "iopub.status.idle": "2024-01-21T04:51:32.708895Z",
     "shell.execute_reply": "2024-01-21T04:51:32.707757Z"
    },
    "papermill": {
     "duration": 0.039704,
     "end_time": "2024-01-21T04:51:32.711384",
     "exception": false,
     "start_time": "2024-01-21T04:51:32.671680",
     "status": "completed"
    },
    "tags": []
   },
   "outputs": [
    {
     "data": {
      "text/html": [
       "<div>\n",
       "<style scoped>\n",
       "    .dataframe tbody tr th:only-of-type {\n",
       "        vertical-align: middle;\n",
       "    }\n",
       "\n",
       "    .dataframe tbody tr th {\n",
       "        vertical-align: top;\n",
       "    }\n",
       "\n",
       "    .dataframe thead th {\n",
       "        text-align: right;\n",
       "    }\n",
       "</style>\n",
       "<table border=\"1\" class=\"dataframe\">\n",
       "  <thead>\n",
       "    <tr style=\"text-align: right;\">\n",
       "      <th></th>\n",
       "      <th>Unnamed: 0</th>\n",
       "      <th>Manufacturer</th>\n",
       "      <th>Category</th>\n",
       "      <th>Screen</th>\n",
       "      <th>GPU</th>\n",
       "      <th>OS</th>\n",
       "      <th>CPU_core</th>\n",
       "      <th>Screen_Size_inch</th>\n",
       "      <th>CPU_frequency</th>\n",
       "      <th>RAM_GB</th>\n",
       "      <th>Storage_GB_SSD</th>\n",
       "      <th>Weight_pounds</th>\n",
       "      <th>Price</th>\n",
       "    </tr>\n",
       "  </thead>\n",
       "  <tbody>\n",
       "    <tr>\n",
       "      <th>0</th>\n",
       "      <td>0</td>\n",
       "      <td>Acer</td>\n",
       "      <td>4</td>\n",
       "      <td>IPS Panel</td>\n",
       "      <td>2</td>\n",
       "      <td>1</td>\n",
       "      <td>5</td>\n",
       "      <td>14.0</td>\n",
       "      <td>1.6</td>\n",
       "      <td>8</td>\n",
       "      <td>256</td>\n",
       "      <td>3.53</td>\n",
       "      <td>978</td>\n",
       "    </tr>\n",
       "    <tr>\n",
       "      <th>1</th>\n",
       "      <td>1</td>\n",
       "      <td>Dell</td>\n",
       "      <td>3</td>\n",
       "      <td>Full HD</td>\n",
       "      <td>1</td>\n",
       "      <td>1</td>\n",
       "      <td>3</td>\n",
       "      <td>15.6</td>\n",
       "      <td>2.0</td>\n",
       "      <td>4</td>\n",
       "      <td>256</td>\n",
       "      <td>4.85</td>\n",
       "      <td>634</td>\n",
       "    </tr>\n",
       "    <tr>\n",
       "      <th>2</th>\n",
       "      <td>2</td>\n",
       "      <td>Dell</td>\n",
       "      <td>3</td>\n",
       "      <td>Full HD</td>\n",
       "      <td>1</td>\n",
       "      <td>1</td>\n",
       "      <td>7</td>\n",
       "      <td>15.6</td>\n",
       "      <td>2.7</td>\n",
       "      <td>8</td>\n",
       "      <td>256</td>\n",
       "      <td>4.85</td>\n",
       "      <td>946</td>\n",
       "    </tr>\n",
       "    <tr>\n",
       "      <th>3</th>\n",
       "      <td>3</td>\n",
       "      <td>Dell</td>\n",
       "      <td>4</td>\n",
       "      <td>IPS Panel</td>\n",
       "      <td>2</td>\n",
       "      <td>1</td>\n",
       "      <td>5</td>\n",
       "      <td>13.3</td>\n",
       "      <td>1.6</td>\n",
       "      <td>8</td>\n",
       "      <td>128</td>\n",
       "      <td>2.69</td>\n",
       "      <td>1244</td>\n",
       "    </tr>\n",
       "    <tr>\n",
       "      <th>4</th>\n",
       "      <td>4</td>\n",
       "      <td>HP</td>\n",
       "      <td>4</td>\n",
       "      <td>Full HD</td>\n",
       "      <td>2</td>\n",
       "      <td>1</td>\n",
       "      <td>7</td>\n",
       "      <td>15.6</td>\n",
       "      <td>1.8</td>\n",
       "      <td>8</td>\n",
       "      <td>256</td>\n",
       "      <td>4.21</td>\n",
       "      <td>837</td>\n",
       "    </tr>\n",
       "  </tbody>\n",
       "</table>\n",
       "</div>"
      ],
      "text/plain": [
       "   Unnamed: 0 Manufacturer  Category     Screen  GPU  OS  CPU_core  \\\n",
       "0           0         Acer         4  IPS Panel    2   1         5   \n",
       "1           1         Dell         3    Full HD    1   1         3   \n",
       "2           2         Dell         3    Full HD    1   1         7   \n",
       "3           3         Dell         4  IPS Panel    2   1         5   \n",
       "4           4           HP         4    Full HD    2   1         7   \n",
       "\n",
       "   Screen_Size_inch  CPU_frequency  RAM_GB  Storage_GB_SSD  Weight_pounds  \\\n",
       "0              14.0            1.6       8             256           3.53   \n",
       "1              15.6            2.0       4             256           4.85   \n",
       "2              15.6            2.7       8             256           4.85   \n",
       "3              13.3            1.6       8             128           2.69   \n",
       "4              15.6            1.8       8             256           4.21   \n",
       "\n",
       "   Price  \n",
       "0    978  \n",
       "1    634  \n",
       "2    946  \n",
       "3   1244  \n",
       "4    837  "
      ]
     },
     "execution_count": 22,
     "metadata": {},
     "output_type": "execute_result"
    }
   ],
   "source": [
    "# Check the transformed data:\n",
    "\n",
    "df.head()"
   ]
  },
  {
   "cell_type": "markdown",
   "id": "73d6d005",
   "metadata": {
    "papermill": {
     "duration": 0.017395,
     "end_time": "2024-01-21T04:51:32.746302",
     "exception": false,
     "start_time": "2024-01-21T04:51:32.728907",
     "status": "completed"
    },
    "tags": []
   },
   "source": [
    "# 6. Data Normalization"
   ]
  },
  {
   "cell_type": "code",
   "execution_count": 23,
   "id": "0b3c22d0",
   "metadata": {
    "execution": {
     "iopub.execute_input": "2024-01-21T04:51:32.782391Z",
     "iopub.status.busy": "2024-01-21T04:51:32.781969Z",
     "iopub.status.idle": "2024-01-21T04:51:32.787960Z",
     "shell.execute_reply": "2024-01-21T04:51:32.786921Z"
    },
    "papermill": {
     "duration": 0.02666,
     "end_time": "2024-01-21T04:51:32.790447",
     "exception": false,
     "start_time": "2024-01-21T04:51:32.763787",
     "status": "completed"
    },
    "tags": []
   },
   "outputs": [],
   "source": [
    "# Scale the column \"CPU_frequency\":\n",
    "\n",
    "df['CPU_frequency'] = df['CPU_frequency']/df['CPU_frequency'].max()"
   ]
  },
  {
   "cell_type": "code",
   "execution_count": 24,
   "id": "5688cdc9",
   "metadata": {
    "execution": {
     "iopub.execute_input": "2024-01-21T04:51:32.825802Z",
     "iopub.status.busy": "2024-01-21T04:51:32.825438Z",
     "iopub.status.idle": "2024-01-21T04:51:32.832401Z",
     "shell.execute_reply": "2024-01-21T04:51:32.831228Z"
    },
    "papermill": {
     "duration": 0.02786,
     "end_time": "2024-01-21T04:51:32.834972",
     "exception": false,
     "start_time": "2024-01-21T04:51:32.807112",
     "status": "completed"
    },
    "tags": []
   },
   "outputs": [],
   "source": [
    "# Update the CPU_frequency column such that all values are rounded to nearest 2 decimal places:\n",
    "\n",
    "df[['CPU_frequency']] = np.round(df[['CPU_frequency']], 2)"
   ]
  },
  {
   "cell_type": "code",
   "execution_count": 25,
   "id": "f13bc0a0",
   "metadata": {
    "execution": {
     "iopub.execute_input": "2024-01-21T04:51:32.871117Z",
     "iopub.status.busy": "2024-01-21T04:51:32.870708Z",
     "iopub.status.idle": "2024-01-21T04:51:32.881933Z",
     "shell.execute_reply": "2024-01-21T04:51:32.880836Z"
    },
    "papermill": {
     "duration": 0.032528,
     "end_time": "2024-01-21T04:51:32.884394",
     "exception": false,
     "start_time": "2024-01-21T04:51:32.851866",
     "status": "completed"
    },
    "tags": []
   },
   "outputs": [
    {
     "data": {
      "text/html": [
       "<div>\n",
       "<style scoped>\n",
       "    .dataframe tbody tr th:only-of-type {\n",
       "        vertical-align: middle;\n",
       "    }\n",
       "\n",
       "    .dataframe tbody tr th {\n",
       "        vertical-align: top;\n",
       "    }\n",
       "\n",
       "    .dataframe thead th {\n",
       "        text-align: right;\n",
       "    }\n",
       "</style>\n",
       "<table border=\"1\" class=\"dataframe\">\n",
       "  <thead>\n",
       "    <tr style=\"text-align: right;\">\n",
       "      <th></th>\n",
       "      <th>CPU_frequency</th>\n",
       "    </tr>\n",
       "  </thead>\n",
       "  <tbody>\n",
       "    <tr>\n",
       "      <th>0</th>\n",
       "      <td>0.55</td>\n",
       "    </tr>\n",
       "    <tr>\n",
       "      <th>1</th>\n",
       "      <td>0.69</td>\n",
       "    </tr>\n",
       "    <tr>\n",
       "      <th>2</th>\n",
       "      <td>0.93</td>\n",
       "    </tr>\n",
       "    <tr>\n",
       "      <th>3</th>\n",
       "      <td>0.55</td>\n",
       "    </tr>\n",
       "    <tr>\n",
       "      <th>4</th>\n",
       "      <td>0.62</td>\n",
       "    </tr>\n",
       "  </tbody>\n",
       "</table>\n",
       "</div>"
      ],
      "text/plain": [
       "   CPU_frequency\n",
       "0           0.55\n",
       "1           0.69\n",
       "2           0.93\n",
       "3           0.55\n",
       "4           0.62"
      ]
     },
     "execution_count": 25,
     "metadata": {},
     "output_type": "execute_result"
    }
   ],
   "source": [
    "# Check the normalized columns:\n",
    "\n",
    "df[[\"CPU_frequency\"]].head()"
   ]
  },
  {
   "cell_type": "markdown",
   "id": "51a6b31f",
   "metadata": {
    "papermill": {
     "duration": 0.016709,
     "end_time": "2024-01-21T04:51:32.918515",
     "exception": false,
     "start_time": "2024-01-21T04:51:32.901806",
     "status": "completed"
    },
    "tags": []
   },
   "source": [
    "# 7. Binning"
   ]
  },
  {
   "cell_type": "code",
   "execution_count": 26,
   "id": "3d42db31",
   "metadata": {
    "execution": {
     "iopub.execute_input": "2024-01-21T04:51:32.955209Z",
     "iopub.status.busy": "2024-01-21T04:51:32.954772Z",
     "iopub.status.idle": "2024-01-21T04:51:33.344274Z",
     "shell.execute_reply": "2024-01-21T04:51:33.343053Z"
    },
    "papermill": {
     "duration": 0.41142,
     "end_time": "2024-01-21T04:51:33.347205",
     "exception": false,
     "start_time": "2024-01-21T04:51:32.935785",
     "status": "completed"
    },
    "tags": []
   },
   "outputs": [
    {
     "data": {
      "text/plain": [
       "Text(0.5, 1.0, 'Price')"
      ]
     },
     "execution_count": 26,
     "metadata": {},
     "output_type": "execute_result"
    },
    {
     "data": {
      "image/png": "[encoded data removed]",
      "text/plain": [
       "<Figure size 640x480 with 1 Axes>"
      ]
     },
     "metadata": {},
     "output_type": "display_data"
    }
   ],
   "source": [
    "# Plot the histogram of \"Price\" column to see what the distribution looks like:\n",
    "\n",
    "plt.pyplot.hist(df[\"Price\"])\n",
    "plt.pyplot.xlabel(\"Price\")\n",
    "plt.pyplot.ylabel(\"count\")\n",
    "plt.pyplot.title(\"Price\")"
   ]
  },
  {
   "cell_type": "code",
   "execution_count": 27,
   "id": "887970d6",
   "metadata": {
    "execution": {
     "iopub.execute_input": "2024-01-21T04:51:33.386364Z",
     "iopub.status.busy": "2024-01-21T04:51:33.384301Z",
     "iopub.status.idle": "2024-01-21T04:51:33.390499Z",
     "shell.execute_reply": "2024-01-21T04:51:33.389679Z"
    },
    "papermill": {
     "duration": 0.028243,
     "end_time": "2024-01-21T04:51:33.393423",
     "exception": false,
     "start_time": "2024-01-21T04:51:33.365180",
     "status": "completed"
    },
    "tags": []
   },
   "outputs": [],
   "source": [
    "# Rearrange the values into three ‘bins':\n",
    "\n",
    "bins = np.linspace(min(df[\"Price\"]), max(df[\"Price\"]), 4)"
   ]
  },
  {
   "cell_type": "code",
   "execution_count": 28,
   "id": "707e377e",
   "metadata": {
    "execution": {
     "iopub.execute_input": "2024-01-21T04:51:33.433809Z",
     "iopub.status.busy": "2024-01-21T04:51:33.432735Z",
     "iopub.status.idle": "2024-01-21T04:51:33.440542Z",
     "shell.execute_reply": "2024-01-21T04:51:33.439297Z"
    },
    "papermill": {
     "duration": 0.031792,
     "end_time": "2024-01-21T04:51:33.443099",
     "exception": false,
     "start_time": "2024-01-21T04:51:33.411307",
     "status": "completed"
    },
    "tags": []
   },
   "outputs": [
    {
     "data": {
      "text/plain": [
       "array([ 527.        , 1621.33333333, 2715.66666667, 3810.        ])"
      ]
     },
     "execution_count": 28,
     "metadata": {},
     "output_type": "execute_result"
    }
   ],
   "source": [
    "# Check the bins:\n",
    "\n",
    "bins"
   ]
  },
  {
   "cell_type": "code",
   "execution_count": 29,
   "id": "0fa1e87e",
   "metadata": {
    "execution": {
     "iopub.execute_input": "2024-01-21T04:51:33.481221Z",
     "iopub.status.busy": "2024-01-21T04:51:33.480774Z",
     "iopub.status.idle": "2024-01-21T04:51:33.485671Z",
     "shell.execute_reply": "2024-01-21T04:51:33.484598Z"
    },
    "papermill": {
     "duration": 0.026565,
     "end_time": "2024-01-21T04:51:33.488089",
     "exception": false,
     "start_time": "2024-01-21T04:51:33.461524",
     "status": "completed"
    },
    "tags": []
   },
   "outputs": [],
   "source": [
    "# Set group names:\n",
    "\n",
    "group_names = ['Low', 'Medium', 'High']"
   ]
  },
  {
   "cell_type": "code",
   "execution_count": 30,
   "id": "4582452e",
   "metadata": {
    "execution": {
     "iopub.execute_input": "2024-01-21T04:51:33.524708Z",
     "iopub.status.busy": "2024-01-21T04:51:33.524309Z",
     "iopub.status.idle": "2024-01-21T04:51:33.532186Z",
     "shell.execute_reply": "2024-01-21T04:51:33.531151Z"
    },
    "papermill": {
     "duration": 0.028879,
     "end_time": "2024-01-21T04:51:33.534416",
     "exception": false,
     "start_time": "2024-01-21T04:51:33.505537",
     "status": "completed"
    },
    "tags": []
   },
   "outputs": [],
   "source": [
    "# Determine what each value of df['Price'] belongs to:\n",
    "\n",
    "df['Price-binned'] = pd.cut(df['Price'], bins, labels=group_names, include_lowest=True )"
   ]
  },
  {
   "cell_type": "code",
   "execution_count": 31,
   "id": "b188d38b",
   "metadata": {
    "execution": {
     "iopub.execute_input": "2024-01-21T04:51:33.573224Z",
     "iopub.status.busy": "2024-01-21T04:51:33.572491Z",
     "iopub.status.idle": "2024-01-21T04:51:33.586794Z",
     "shell.execute_reply": "2024-01-21T04:51:33.585580Z"
    },
    "papermill": {
     "duration": 0.036436,
     "end_time": "2024-01-21T04:51:33.589495",
     "exception": false,
     "start_time": "2024-01-21T04:51:33.553059",
     "status": "completed"
    },
    "tags": []
   },
   "outputs": [
    {
     "data": {
      "text/html": [
       "<div>\n",
       "<style scoped>\n",
       "    .dataframe tbody tr th:only-of-type {\n",
       "        vertical-align: middle;\n",
       "    }\n",
       "\n",
       "    .dataframe tbody tr th {\n",
       "        vertical-align: top;\n",
       "    }\n",
       "\n",
       "    .dataframe thead th {\n",
       "        text-align: right;\n",
       "    }\n",
       "</style>\n",
       "<table border=\"1\" class=\"dataframe\">\n",
       "  <thead>\n",
       "    <tr style=\"text-align: right;\">\n",
       "      <th></th>\n",
       "      <th>Price</th>\n",
       "      <th>Price-binned</th>\n",
       "    </tr>\n",
       "  </thead>\n",
       "  <tbody>\n",
       "    <tr>\n",
       "      <th>0</th>\n",
       "      <td>978</td>\n",
       "      <td>Low</td>\n",
       "    </tr>\n",
       "    <tr>\n",
       "      <th>1</th>\n",
       "      <td>634</td>\n",
       "      <td>Low</td>\n",
       "    </tr>\n",
       "    <tr>\n",
       "      <th>2</th>\n",
       "      <td>946</td>\n",
       "      <td>Low</td>\n",
       "    </tr>\n",
       "    <tr>\n",
       "      <th>3</th>\n",
       "      <td>1244</td>\n",
       "      <td>Low</td>\n",
       "    </tr>\n",
       "    <tr>\n",
       "      <th>4</th>\n",
       "      <td>837</td>\n",
       "      <td>Low</td>\n",
       "    </tr>\n",
       "  </tbody>\n",
       "</table>\n",
       "</div>"
      ],
      "text/plain": [
       "   Price Price-binned\n",
       "0    978          Low\n",
       "1    634          Low\n",
       "2    946          Low\n",
       "3   1244          Low\n",
       "4    837          Low"
      ]
     },
     "execution_count": 31,
     "metadata": {},
     "output_type": "execute_result"
    }
   ],
   "source": [
    "# Check the result:\n",
    "\n",
    "df[['Price','Price-binned']].head(5)"
   ]
  },
  {
   "cell_type": "code",
   "execution_count": 32,
   "id": "2289edab",
   "metadata": {
    "execution": {
     "iopub.execute_input": "2024-01-21T04:51:33.629211Z",
     "iopub.status.busy": "2024-01-21T04:51:33.628023Z",
     "iopub.status.idle": "2024-01-21T04:51:33.638820Z",
     "shell.execute_reply": "2024-01-21T04:51:33.637264Z"
    },
    "papermill": {
     "duration": 0.033209,
     "end_time": "2024-01-21T04:51:33.641611",
     "exception": false,
     "start_time": "2024-01-21T04:51:33.608402",
     "status": "completed"
    },
    "tags": []
   },
   "outputs": [
    {
     "data": {
      "text/plain": [
       "Price-binned\n",
       "Low       160\n",
       "Medium     72\n",
       "High        6\n",
       "Name: count, dtype: int64"
      ]
     },
     "execution_count": 32,
     "metadata": {},
     "output_type": "execute_result"
    }
   ],
   "source": [
    "# Check the number of values in each bin:\n",
    "\n",
    "df[\"Price-binned\"].value_counts()"
   ]
  },
  {
   "cell_type": "markdown",
   "id": "7535b2cf",
   "metadata": {
    "papermill": {
     "duration": 0.017704,
     "end_time": "2024-01-21T04:51:33.677525",
     "exception": false,
     "start_time": "2024-01-21T04:51:33.659821",
     "status": "completed"
    },
    "tags": []
   },
   "source": [
    "Plot the bar graph of these bins."
   ]
  },
  {
   "cell_type": "code",
   "execution_count": 33,
   "id": "be9a054b",
   "metadata": {
    "execution": {
     "iopub.execute_input": "2024-01-21T04:51:33.715354Z",
     "iopub.status.busy": "2024-01-21T04:51:33.714965Z",
     "iopub.status.idle": "2024-01-21T04:51:34.025228Z",
     "shell.execute_reply": "2024-01-21T04:51:34.023925Z"
    },
    "papermill": {
     "duration": 0.331921,
     "end_time": "2024-01-21T04:51:34.027755",
     "exception": false,
     "start_time": "2024-01-21T04:51:33.695834",
     "status": "completed"
    },
    "tags": []
   },
   "outputs": [
    {
     "data": {
      "text/plain": [
       "Text(0.5, 1.0, 'Price bins')"
      ]
     },
     "execution_count": 33,
     "metadata": {},
     "output_type": "execute_result"
    },
    {
     "data": {
      "image/png": "[encoded data removed]",
      "text/plain": [
       "<Figure size 640x480 with 1 Axes>"
      ]
     },
     "metadata": {},
     "output_type": "display_data"
    }
   ],
   "source": [
    "# Plot the distribution of each bin:\n",
    "\n",
    "pyplot.bar(group_names, df[\"Price-binned\"].value_counts())\n",
    "plt.pyplot.xlabel(\"Price\")\n",
    "plt.pyplot.ylabel(\"count\")\n",
    "plt.pyplot.title(\"Price bins\")"
   ]
  },
  {
   "cell_type": "markdown",
   "id": "090a04d1",
   "metadata": {
    "papermill": {
     "duration": 0.020167,
     "end_time": "2024-01-21T04:51:34.066779",
     "exception": false,
     "start_time": "2024-01-21T04:51:34.046612",
     "status": "completed"
    },
    "tags": []
   },
   "source": [
    "# 8. Indicator variables"
   ]
  },
  {
   "cell_type": "code",
   "execution_count": 34,
   "id": "885735e6",
   "metadata": {
    "execution": {
     "iopub.execute_input": "2024-01-21T04:51:34.106488Z",
     "iopub.status.busy": "2024-01-21T04:51:34.105754Z",
     "iopub.status.idle": "2024-01-21T04:51:34.114071Z",
     "shell.execute_reply": "2024-01-21T04:51:34.112687Z"
    },
    "papermill": {
     "duration": 0.031398,
     "end_time": "2024-01-21T04:51:34.117010",
     "exception": false,
     "start_time": "2024-01-21T04:51:34.085612",
     "status": "completed"
    },
    "tags": []
   },
   "outputs": [],
   "source": [
    "# Convert \"Screen\" to indicator variables and assign it to data \"dummy_variable_1\":\n",
    "\n",
    "dummy_variable_1 = pd.get_dummies(df[\"Screen\"])"
   ]
  },
  {
   "cell_type": "code",
   "execution_count": 35,
   "id": "00f98ca6",
   "metadata": {
    "execution": {
     "iopub.execute_input": "2024-01-21T04:51:34.158735Z",
     "iopub.status.busy": "2024-01-21T04:51:34.158318Z",
     "iopub.status.idle": "2024-01-21T04:51:34.164057Z",
     "shell.execute_reply": "2024-01-21T04:51:34.162904Z"
    },
    "papermill": {
     "duration": 0.029482,
     "end_time": "2024-01-21T04:51:34.166404",
     "exception": false,
     "start_time": "2024-01-21T04:51:34.136922",
     "status": "completed"
    },
    "tags": []
   },
   "outputs": [],
   "source": [
    "# Change the column names:\n",
    "\n",
    "dummy_variable_1.rename(columns={'IPS Panel':'Screen-IPS_panel', 'Full HD':'Screen-Full_HD'}, inplace=True)"
   ]
  },
  {
   "cell_type": "code",
   "execution_count": 36,
   "id": "0cde2ca4",
   "metadata": {
    "execution": {
     "iopub.execute_input": "2024-01-21T04:51:34.206386Z",
     "iopub.status.busy": "2024-01-21T04:51:34.205990Z",
     "iopub.status.idle": "2024-01-21T04:51:34.217044Z",
     "shell.execute_reply": "2024-01-21T04:51:34.215927Z"
    },
    "papermill": {
     "duration": 0.033955,
     "end_time": "2024-01-21T04:51:34.219568",
     "exception": false,
     "start_time": "2024-01-21T04:51:34.185613",
     "status": "completed"
    },
    "tags": []
   },
   "outputs": [
    {
     "data": {
      "text/html": [
       "<div>\n",
       "<style scoped>\n",
       "    .dataframe tbody tr th:only-of-type {\n",
       "        vertical-align: middle;\n",
       "    }\n",
       "\n",
       "    .dataframe tbody tr th {\n",
       "        vertical-align: top;\n",
       "    }\n",
       "\n",
       "    .dataframe thead th {\n",
       "        text-align: right;\n",
       "    }\n",
       "</style>\n",
       "<table border=\"1\" class=\"dataframe\">\n",
       "  <thead>\n",
       "    <tr style=\"text-align: right;\">\n",
       "      <th></th>\n",
       "      <th>Screen-Full_HD</th>\n",
       "      <th>Screen-IPS_panel</th>\n",
       "    </tr>\n",
       "  </thead>\n",
       "  <tbody>\n",
       "    <tr>\n",
       "      <th>0</th>\n",
       "      <td>False</td>\n",
       "      <td>True</td>\n",
       "    </tr>\n",
       "    <tr>\n",
       "      <th>1</th>\n",
       "      <td>True</td>\n",
       "      <td>False</td>\n",
       "    </tr>\n",
       "    <tr>\n",
       "      <th>2</th>\n",
       "      <td>True</td>\n",
       "      <td>False</td>\n",
       "    </tr>\n",
       "    <tr>\n",
       "      <th>3</th>\n",
       "      <td>False</td>\n",
       "      <td>True</td>\n",
       "    </tr>\n",
       "    <tr>\n",
       "      <th>4</th>\n",
       "      <td>True</td>\n",
       "      <td>False</td>\n",
       "    </tr>\n",
       "  </tbody>\n",
       "</table>\n",
       "</div>"
      ],
      "text/plain": [
       "   Screen-Full_HD  Screen-IPS_panel\n",
       "0           False              True\n",
       "1            True             False\n",
       "2            True             False\n",
       "3           False              True\n",
       "4            True             False"
      ]
     },
     "execution_count": 36,
     "metadata": {},
     "output_type": "execute_result"
    }
   ],
   "source": [
    "# Check the result:\n",
    "\n",
    "dummy_variable_1.head()"
   ]
  },
  {
   "cell_type": "code",
   "execution_count": 37,
   "id": "1187d540",
   "metadata": {
    "execution": {
     "iopub.execute_input": "2024-01-21T04:51:34.261388Z",
     "iopub.status.busy": "2024-01-21T04:51:34.261003Z",
     "iopub.status.idle": "2024-01-21T04:51:34.267307Z",
     "shell.execute_reply": "2024-01-21T04:51:34.266052Z"
    },
    "papermill": {
     "duration": 0.029402,
     "end_time": "2024-01-21T04:51:34.269485",
     "exception": false,
     "start_time": "2024-01-21T04:51:34.240083",
     "status": "completed"
    },
    "tags": []
   },
   "outputs": [],
   "source": [
    "# Merge data \"df\" and \"dummy_variable_1\":\n",
    "\n",
    "df = pd.concat([df, dummy_variable_1], axis=1)"
   ]
  },
  {
   "cell_type": "code",
   "execution_count": 38,
   "id": "685f33f4",
   "metadata": {
    "execution": {
     "iopub.execute_input": "2024-01-21T04:51:34.311136Z",
     "iopub.status.busy": "2024-01-21T04:51:34.310750Z",
     "iopub.status.idle": "2024-01-21T04:51:34.316306Z",
     "shell.execute_reply": "2024-01-21T04:51:34.315431Z"
    },
    "papermill": {
     "duration": 0.029142,
     "end_time": "2024-01-21T04:51:34.318707",
     "exception": false,
     "start_time": "2024-01-21T04:51:34.289565",
     "status": "completed"
    },
    "tags": []
   },
   "outputs": [],
   "source": [
    "# Drop original column \"Screen\" from \"df\"\n",
    "\n",
    "df.drop(\"Screen\", axis = 1, inplace=True)"
   ]
  },
  {
   "cell_type": "code",
   "execution_count": 39,
   "id": "35035111",
   "metadata": {
    "execution": {
     "iopub.execute_input": "2024-01-21T04:51:34.359772Z",
     "iopub.status.busy": "2024-01-21T04:51:34.359135Z",
     "iopub.status.idle": "2024-01-21T04:51:34.371935Z",
     "shell.execute_reply": "2024-01-21T04:51:34.370544Z"
    },
    "papermill": {
     "duration": 0.036258,
     "end_time": "2024-01-21T04:51:34.374656",
     "exception": false,
     "start_time": "2024-01-21T04:51:34.338398",
     "status": "completed"
    },
    "tags": []
   },
   "outputs": [
    {
     "name": "stdout",
     "output_type": "stream",
     "text": [
      "   Unnamed: 0 Manufacturer  Category  GPU  OS  CPU_core  Screen_Size_inch  \\\n",
      "0           0         Acer         4    2   1         5              14.0   \n",
      "1           1         Dell         3    1   1         3              15.6   \n",
      "2           2         Dell         3    1   1         7              15.6   \n",
      "3           3         Dell         4    2   1         5              13.3   \n",
      "4           4           HP         4    2   1         7              15.6   \n",
      "\n",
      "   CPU_frequency  RAM_GB  Storage_GB_SSD  Weight_pounds  Price Price-binned  \\\n",
      "0           0.55       8             256           3.53    978          Low   \n",
      "1           0.69       4             256           4.85    634          Low   \n",
      "2           0.93       8             256           4.85    946          Low   \n",
      "3           0.55       8             128           2.69   1244          Low   \n",
      "4           0.62       8             256           4.21    837          Low   \n",
      "\n",
      "   Screen-Full_HD  Screen-IPS_panel  \n",
      "0           False              True  \n",
      "1            True             False  \n",
      "2            True             False  \n",
      "3           False              True  \n",
      "4            True             False  \n"
     ]
    }
   ],
   "source": [
    "# Check the result:\n",
    "\n",
    "print(df.head())"
   ]
  },
  {
   "cell_type": "code",
   "execution_count": 40,
   "id": "407c8d7e",
   "metadata": {
    "execution": {
     "iopub.execute_input": "2024-01-21T04:51:34.415637Z",
     "iopub.status.busy": "2024-01-21T04:51:34.415209Z",
     "iopub.status.idle": "2024-01-21T04:51:34.426924Z",
     "shell.execute_reply": "2024-01-21T04:51:34.425673Z"
    },
    "papermill": {
     "duration": 0.035408,
     "end_time": "2024-01-21T04:51:34.429565",
     "exception": false,
     "start_time": "2024-01-21T04:51:34.394157",
     "status": "completed"
    },
    "tags": []
   },
   "outputs": [],
   "source": [
    "# Save the file:\n",
    "\n",
    "df.to_csv('laptop_pricing_cleaned.csv')"
   ]
  }
 ],
 "metadata": {
  "kaggle": {
   "accelerator": "none",
   "dataSources": [
    {
     "datasetId": 4313257,
     "sourceId": 7414679,
     "sourceType": "datasetVersion"
    }
   ],
   "dockerImageVersionId": 30635,
   "isGpuEnabled": false,
   "isInternetEnabled": true,
   "language": "python",
   "sourceType": "notebook"
  },
  "kernelspec": {
   "display_name": "Python 3",
   "language": "python",
   "name": "python3"
  },
  "language_info": {
   "codemirror_mode": {
    "name": "ipython",
    "version": 3
   },
   "file_extension": ".py",
   "mimetype": "text/x-python",
   "name": "python",
   "nbconvert_exporter": "python",
   "pygments_lexer": "ipython3",
   "version": "3.10.12"
  },
  "papermill": {
   "default_parameters": {},
   "duration": 7.53117,
   "end_time": "2024-01-21T04:51:34.971826",
   "environment_variables": {},
   "exception": null,
   "input_path": "__notebook__.ipynb",
   "output_path": "__notebook__.ipynb",
   "parameters": {},
   "start_time": "2024-01-21T04:51:27.440656",
   "version": "2.4.0"
  }
 },
 "nbformat": 4,
 "nbformat_minor": 5
}
